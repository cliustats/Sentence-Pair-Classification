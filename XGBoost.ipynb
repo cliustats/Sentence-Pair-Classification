{
  "nbformat": 4,
  "nbformat_minor": 0,
  "metadata": {
    "colab": {
      "name": "XGBoost.ipynb",
      "provenance": []
    },
    "kernelspec": {
      "name": "python3",
      "display_name": "Python 3"
    },
    "accelerator": "GPU"
  },
  "cells": [
    {
      "cell_type": "code",
      "metadata": {
        "id": "jh5A6sVLYp2m",
        "colab_type": "code",
        "colab": {
          "base_uri": "https://localhost:8080/",
          "height": 122
        },
        "outputId": "c9978ee9-21ab-4652-e781-e21fe13bd7da"
      },
      "source": [
        "# Run this for Google CoLab\n",
        "from google.colab import drive\n",
        "drive.mount('/content/drive')"
      ],
      "execution_count": 1,
      "outputs": [
        {
          "output_type": "stream",
          "text": [
            "Go to this URL in a browser: https://accounts.google.com/o/oauth2/auth?client_id=947318989803-6bn6qk8qdgf4n4g3pfee6491hc0brc4i.apps.googleusercontent.com&redirect_uri=urn%3aietf%3awg%3aoauth%3a2.0%3aoob&response_type=code&scope=email%20https%3a%2f%2fwww.googleapis.com%2fauth%2fdocs.test%20https%3a%2f%2fwww.googleapis.com%2fauth%2fdrive%20https%3a%2f%2fwww.googleapis.com%2fauth%2fdrive.photos.readonly%20https%3a%2f%2fwww.googleapis.com%2fauth%2fpeopleapi.readonly\n",
            "\n",
            "Enter your authorization code:\n",
            "··········\n",
            "Mounted at /content/drive\n"
          ],
          "name": "stdout"
        }
      ]
    },
    {
      "cell_type": "code",
      "metadata": {
        "id": "b4cbHvP-Y_iS",
        "colab_type": "code",
        "colab": {
          "base_uri": "https://localhost:8080/",
          "height": 85
        },
        "outputId": "26953368-16bd-43c1-dcf0-106abbd49701"
      },
      "source": [
        "pip install fuzzywuzzy"
      ],
      "execution_count": 2,
      "outputs": [
        {
          "output_type": "stream",
          "text": [
            "Collecting fuzzywuzzy\n",
            "  Downloading https://files.pythonhosted.org/packages/d8/f1/5a267addb30ab7eaa1beab2b9323073815da4551076554ecc890a3595ec9/fuzzywuzzy-0.17.0-py2.py3-none-any.whl\n",
            "Installing collected packages: fuzzywuzzy\n",
            "Successfully installed fuzzywuzzy-0.17.0\n"
          ],
          "name": "stdout"
        }
      ]
    },
    {
      "cell_type": "code",
      "metadata": {
        "id": "VEDJ22fuZFzq",
        "colab_type": "code",
        "colab": {
          "base_uri": "https://localhost:8080/",
          "height": 68
        },
        "outputId": "65e31333-97ad-4e3a-bf67-a9504d668ef7"
      },
      "source": [
        "import nltk\n",
        "nltk.download('stopwords')"
      ],
      "execution_count": 3,
      "outputs": [
        {
          "output_type": "stream",
          "text": [
            "[nltk_data] Downloading package stopwords to /root/nltk_data...\n",
            "[nltk_data]   Unzipping corpora/stopwords.zip.\n"
          ],
          "name": "stdout"
        },
        {
          "output_type": "execute_result",
          "data": {
            "text/plain": [
              "True"
            ]
          },
          "metadata": {
            "tags": []
          },
          "execution_count": 3
        }
      ]
    },
    {
      "cell_type": "code",
      "metadata": {
        "id": "v95tztaBX5T3",
        "colab_type": "code",
        "colab": {
          "base_uri": "https://localhost:8080/",
          "height": 51
        },
        "outputId": "c38fbdd0-1d98-4271-d24e-122b04e58801"
      },
      "source": [
        "import numpy as np\n",
        "import pandas as pd\n",
        "import gensim\n",
        "import scipy\n",
        "import spacy\n",
        "from fuzzywuzzy import fuzz\n",
        "from nltk.corpus import stopwords\n",
        "from sklearn.feature_extraction.text import TfidfVectorizer, CountVectorizer\n",
        "from sklearn.decomposition import TruncatedSVD\n",
        "from scipy.stats import skew, kurtosis\n",
        "from scipy.spatial.distance import cosine, cityblock, jaccard, canberra, euclidean, minkowski, braycurtis\n",
        "from scipy.stats import skew, kurtosis\n",
        "import gensim\n",
        "from gensim.models import Word2Vec\n",
        "from nltk import word_tokenize\n",
        "from nltk.corpus import stopwords\n",
        "from spacy.lang.en.stop_words import STOP_WORDS\n",
        "\n",
        "from tqdm import tqdm_notebook\n",
        "%matplotlib inline"
      ],
      "execution_count": 4,
      "outputs": [
        {
          "output_type": "stream",
          "text": [
            "/usr/local/lib/python3.6/dist-packages/fuzzywuzzy/fuzz.py:11: UserWarning: Using slow pure-python SequenceMatcher. Install python-Levenshtein to remove this warning\n",
            "  warnings.warn('Using slow pure-python SequenceMatcher. Install python-Levenshtein to remove this warning')\n"
          ],
          "name": "stderr"
        }
      ]
    },
    {
      "cell_type": "code",
      "metadata": {
        "id": "nkNRZuxjYmSn",
        "colab_type": "code",
        "colab": {}
      },
      "source": [
        "input_folder = '/content/drive/My Drive/projects/kaggle/'"
      ],
      "execution_count": 0,
      "outputs": []
    },
    {
      "cell_type": "code",
      "metadata": {
        "id": "B1N_490bZVWC",
        "colab_type": "code",
        "colab": {}
      },
      "source": [
        "df = pd.read_csv(input_folder + 'train.csv')\n",
        "df_test = pd.read_csv(input_folder + 'test.csv')"
      ],
      "execution_count": 0,
      "outputs": []
    },
    {
      "cell_type": "code",
      "metadata": {
        "id": "PP_S1FJ1aWra",
        "colab_type": "code",
        "colab": {
          "base_uri": "https://localhost:8080/",
          "height": 204
        },
        "outputId": "4c7c712e-1348-4131-8278-333e09808883"
      },
      "source": [
        "df.head()"
      ],
      "execution_count": 7,
      "outputs": [
        {
          "output_type": "execute_result",
          "data": {
            "text/html": [
              "<div>\n",
              "<style scoped>\n",
              "    .dataframe tbody tr th:only-of-type {\n",
              "        vertical-align: middle;\n",
              "    }\n",
              "\n",
              "    .dataframe tbody tr th {\n",
              "        vertical-align: top;\n",
              "    }\n",
              "\n",
              "    .dataframe thead th {\n",
              "        text-align: right;\n",
              "    }\n",
              "</style>\n",
              "<table border=\"1\" class=\"dataframe\">\n",
              "  <thead>\n",
              "    <tr style=\"text-align: right;\">\n",
              "      <th></th>\n",
              "      <th>id</th>\n",
              "      <th>sent1</th>\n",
              "      <th>sent2</th>\n",
              "      <th>same_source</th>\n",
              "    </tr>\n",
              "  </thead>\n",
              "  <tbody>\n",
              "    <tr>\n",
              "      <th>0</th>\n",
              "      <td>1</td>\n",
              "      <td>June – Moctezuma II, Aztec ruler of Tenochtitl...</td>\n",
              "      <td>The Swedish regent Sten Sture the Younger is m...</td>\n",
              "      <td>1</td>\n",
              "    </tr>\n",
              "    <tr>\n",
              "      <th>1</th>\n",
              "      <td>2</td>\n",
              "      <td>The population was 1,097 at the 2010 census.</td>\n",
              "      <td>Like other Latino neighborhoods in New York Ci...</td>\n",
              "      <td>0</td>\n",
              "    </tr>\n",
              "    <tr>\n",
              "      <th>2</th>\n",
              "      <td>3</td>\n",
              "      <td>Europe and the Islamic World: A History.</td>\n",
              "      <td>There are no plans to resurrect it.</td>\n",
              "      <td>0</td>\n",
              "    </tr>\n",
              "    <tr>\n",
              "      <th>3</th>\n",
              "      <td>4</td>\n",
              "      <td>Even where only a small charge is produced, it...</td>\n",
              "      <td>The Clarion-Limestone Area School District pro...</td>\n",
              "      <td>0</td>\n",
              "    </tr>\n",
              "    <tr>\n",
              "      <th>4</th>\n",
              "      <td>5</td>\n",
              "      <td>The highlight of Croatias recent infrastructur...</td>\n",
              "      <td>The closest analogy with the modern Web browse...</td>\n",
              "      <td>0</td>\n",
              "    </tr>\n",
              "  </tbody>\n",
              "</table>\n",
              "</div>"
            ],
            "text/plain": [
              "   id  ... same_source\n",
              "0   1  ...           1\n",
              "1   2  ...           0\n",
              "2   3  ...           0\n",
              "3   4  ...           0\n",
              "4   5  ...           0\n",
              "\n",
              "[5 rows x 4 columns]"
            ]
          },
          "metadata": {
            "tags": []
          },
          "execution_count": 7
        }
      ]
    },
    {
      "cell_type": "code",
      "metadata": {
        "id": "4COcOq9AaY-a",
        "colab_type": "code",
        "colab": {}
      },
      "source": [
        "df = df.dropna(how=\"any\").reset_index(drop=True)"
      ],
      "execution_count": 0,
      "outputs": []
    },
    {
      "cell_type": "code",
      "metadata": {
        "id": "WsxlI9ohab4r",
        "colab_type": "code",
        "colab": {
          "base_uri": "https://localhost:8080/",
          "height": 361
        },
        "outputId": "06a28f50-f137-429d-933b-a9e4f1dcb03d"
      },
      "source": [
        "# check whether the data is balanced or not\n",
        "print(df.groupby(\"same_source\")['id'].count())\n",
        "df.groupby(\"same_source\")['id'].count().plot.bar()"
      ],
      "execution_count": 9,
      "outputs": [
        {
          "output_type": "stream",
          "text": [
            "same_source\n",
            "0    64515\n",
            "1    64641\n",
            "Name: id, dtype: int64\n"
          ],
          "name": "stdout"
        },
        {
          "output_type": "execute_result",
          "data": {
            "text/plain": [
              "<matplotlib.axes._subplots.AxesSubplot at 0x7f0faa4b7a58>"
            ]
          },
          "metadata": {
            "tags": []
          },
          "execution_count": 9
        },
        {
          "output_type": "display_data",
          "data": {
            "image/png": "[encoded data removed]",
            "text/plain": [
              "<Figure size 432x288 with 1 Axes>"
            ]
          },
          "metadata": {
            "tags": []
          }
        }
      ]
    },
    {
      "cell_type": "code",
      "metadata": {
        "id": "bHTwwV_jaeNK",
        "colab_type": "code",
        "colab": {
          "base_uri": "https://localhost:8080/",
          "height": 204
        },
        "outputId": "9d5c4e32-5b5f-46ab-f110-edb5be10e57a"
      },
      "source": [
        "train_size=df.shape[0]\n",
        "test_size=df_test.shape[0]\n",
        "df.drop(['id'], axis=1, inplace=True)\n",
        "id_test=df_test['id']\n",
        "df_test.drop(['id'], axis=1, inplace=True)\n",
        "df.head()"
      ],
      "execution_count": 10,
      "outputs": [
        {
          "output_type": "execute_result",
          "data": {
            "text/html": [
              "<div>\n",
              "<style scoped>\n",
              "    .dataframe tbody tr th:only-of-type {\n",
              "        vertical-align: middle;\n",
              "    }\n",
              "\n",
              "    .dataframe tbody tr th {\n",
              "        vertical-align: top;\n",
              "    }\n",
              "\n",
              "    .dataframe thead th {\n",
              "        text-align: right;\n",
              "    }\n",
              "</style>\n",
              "<table border=\"1\" class=\"dataframe\">\n",
              "  <thead>\n",
              "    <tr style=\"text-align: right;\">\n",
              "      <th></th>\n",
              "      <th>sent1</th>\n",
              "      <th>sent2</th>\n",
              "      <th>same_source</th>\n",
              "    </tr>\n",
              "  </thead>\n",
              "  <tbody>\n",
              "    <tr>\n",
              "      <th>0</th>\n",
              "      <td>June – Moctezuma II, Aztec ruler of Tenochtitl...</td>\n",
              "      <td>The Swedish regent Sten Sture the Younger is m...</td>\n",
              "      <td>1</td>\n",
              "    </tr>\n",
              "    <tr>\n",
              "      <th>1</th>\n",
              "      <td>The population was 1,097 at the 2010 census.</td>\n",
              "      <td>Like other Latino neighborhoods in New York Ci...</td>\n",
              "      <td>0</td>\n",
              "    </tr>\n",
              "    <tr>\n",
              "      <th>2</th>\n",
              "      <td>Europe and the Islamic World: A History.</td>\n",
              "      <td>There are no plans to resurrect it.</td>\n",
              "      <td>0</td>\n",
              "    </tr>\n",
              "    <tr>\n",
              "      <th>3</th>\n",
              "      <td>Even where only a small charge is produced, it...</td>\n",
              "      <td>The Clarion-Limestone Area School District pro...</td>\n",
              "      <td>0</td>\n",
              "    </tr>\n",
              "    <tr>\n",
              "      <th>4</th>\n",
              "      <td>The highlight of Croatias recent infrastructur...</td>\n",
              "      <td>The closest analogy with the modern Web browse...</td>\n",
              "      <td>0</td>\n",
              "    </tr>\n",
              "  </tbody>\n",
              "</table>\n",
              "</div>"
            ],
            "text/plain": [
              "                                               sent1  ... same_source\n",
              "0  June – Moctezuma II, Aztec ruler of Tenochtitl...  ...           1\n",
              "1       The population was 1,097 at the 2010 census.  ...           0\n",
              "2           Europe and the Islamic World: A History.  ...           0\n",
              "3  Even where only a small charge is produced, it...  ...           0\n",
              "4  The highlight of Croatias recent infrastructur...  ...           0\n",
              "\n",
              "[5 rows x 3 columns]"
            ]
          },
          "metadata": {
            "tags": []
          },
          "execution_count": 10
        }
      ]
    },
    {
      "cell_type": "code",
      "metadata": {
        "id": "I1eDoRp7bBqZ",
        "colab_type": "code",
        "colab": {}
      },
      "source": [
        "df_all=pd.concat([df[['sent1','sent2']],df_test],axis=0)"
      ],
      "execution_count": 0,
      "outputs": []
    },
    {
      "cell_type": "markdown",
      "metadata": {
        "id": "rh37AfbCa6WV",
        "colab_type": "text"
      },
      "source": [
        "tf-idf based on words"
      ]
    },
    {
      "cell_type": "code",
      "metadata": {
        "id": "gVMsKnPoa0Ku",
        "colab_type": "code",
        "colab": {}
      },
      "source": [
        "tfidf_vect = TfidfVectorizer(analyzer='word',min_df=3,token_pattern=r'\\w{1,}',ngram_range=(1,2),max_features=5000)\n",
        "tfidf_vect.fit(pd.concat((df_all['sent1'],df_all['sent2'])).unique())\n",
        "trainq1_trans = tfidf_vect.transform(df_all['sent1'].values)\n",
        "trainq2_trans = tfidf_vect.transform(df_all['sent2'].values)\n",
        "fs_tfidf_word_all = scipy.sparse.hstack((trainq1_trans,trainq2_trans))"
      ],
      "execution_count": 0,
      "outputs": []
    },
    {
      "cell_type": "code",
      "metadata": {
        "id": "lPVKhAq9a884",
        "colab_type": "code",
        "colab": {
          "base_uri": "https://localhost:8080/",
          "height": 34
        },
        "outputId": "34005858-2b6e-4745-e9df-29dbdcb1e077"
      },
      "source": [
        "fs_tfidf_word_all.shape"
      ],
      "execution_count": 13,
      "outputs": [
        {
          "output_type": "execute_result",
          "data": {
            "text/plain": [
              "(143506, 10000)"
            ]
          },
          "metadata": {
            "tags": []
          },
          "execution_count": 13
        }
      ]
    },
    {
      "cell_type": "markdown",
      "metadata": {
        "id": "rozvhowxbWD_",
        "colab_type": "text"
      },
      "source": [
        "tf-idf based on characters"
      ]
    },
    {
      "cell_type": "code",
      "metadata": {
        "id": "o_Qx3wxzbRb5",
        "colab_type": "code",
        "colab": {}
      },
      "source": [
        "tfidf_vect_ngram_chars = TfidfVectorizer(analyzer='char',min_df=3, token_pattern=r'\\w{1,}',ngram_range=(1,2), max_features=5000)\n",
        "tfidf_vect_ngram_chars.fit(pd.concat((df_all['sent1'],df_all['sent2'])).unique())\n",
        "trainq1_trans = tfidf_vect_ngram_chars.transform(df_all['sent1'].values)\n",
        "trainq2_trans = tfidf_vect_ngram_chars.transform(df_all['sent2'].values)\n",
        "fs_tfidf_char_all = scipy.sparse.hstack((trainq1_trans,trainq2_trans))"
      ],
      "execution_count": 0,
      "outputs": []
    },
    {
      "cell_type": "markdown",
      "metadata": {
        "id": "0ZUIfhzxbkf7",
        "colab_type": "text"
      },
      "source": [
        "Use xgboost to train"
      ]
    },
    {
      "cell_type": "code",
      "metadata": {
        "id": "EjKoed0SbY6K",
        "colab_type": "code",
        "colab": {}
      },
      "source": [
        "from sklearn.model_selection import train_test_split\n",
        "from sklearn.metrics import classification_report\n",
        "from sklearn.metrics import confusion_matrix  \n",
        "from sklearn.metrics import accuracy_score\n",
        "import xgboost as xgb"
      ],
      "execution_count": 0,
      "outputs": []
    },
    {
      "cell_type": "code",
      "metadata": {
        "id": "XwVK30WBbqnE",
        "colab_type": "code",
        "colab": {
          "base_uri": "https://localhost:8080/",
          "height": 34
        },
        "outputId": "7ab88b83-6883-44d3-ada9-76cae32e5226"
      },
      "source": [
        "X = scipy.sparse.hstack((fs_tfidf_char_all,fs_tfidf_word_all))\n",
        "print(X.shape)"
      ],
      "execution_count": 16,
      "outputs": [
        {
          "output_type": "stream",
          "text": [
            "(143506, 18770)\n"
          ],
          "name": "stdout"
        }
      ]
    },
    {
      "cell_type": "code",
      "metadata": {
        "id": "QI_tAS0Mbsdd",
        "colab_type": "code",
        "colab": {}
      },
      "source": [
        "y = df.loc[:, df.columns == 'same_source']\n",
        "df_train, Test = train_test_split(X,train_size=train_size, random_state=42,shuffle=False)"
      ],
      "execution_count": 0,
      "outputs": []
    },
    {
      "cell_type": "code",
      "metadata": {
        "id": "ISNZ8tt9bwEd",
        "colab_type": "code",
        "colab": {}
      },
      "source": [
        "model = xgb.XGBClassifier(max_depth=80, n_estimators=480, learning_rate=0.06, \n",
        "                          colsample_bytree=.7, gamma=0, reg_alpha=3.8, objective='binary:logistic', \n",
        "                          silent=0, subsample=0.85).fit(df_train, y.values.ravel())"
      ],
      "execution_count": 0,
      "outputs": []
    },
    {
      "cell_type": "code",
      "metadata": {
        "id": "GhDaLlWTcK5A",
        "colab_type": "code",
        "colab": {}
      },
      "source": [
        "pred=model.predict_proba(Test)[:,1]\n",
        "submission = pd.DataFrame()\n",
        "submission['Id'] = id_test\n",
        "submission['same_source'] = pred\n",
        "submission.to_csv('xgboost.csv', index = False)"
      ],
      "execution_count": 0,
      "outputs": []
    }
  ]
}